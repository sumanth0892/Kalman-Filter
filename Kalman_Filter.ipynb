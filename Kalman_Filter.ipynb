{
 "cells": [
  {
   "cell_type": "markdown",
   "id": "b3ee848a",
   "metadata": {},
   "source": [
    "## Kalman Filter"
   ]
  },
  {
   "cell_type": "code",
   "execution_count": 10,
   "id": "639ee9bd",
   "metadata": {},
   "outputs": [],
   "source": [
    "import numpy as np\n",
    "import scipy.stats as stats\n",
    "import matplotlib.pyplot as plt\n",
    "from Pos_Sensor_1 import PosSensor1\n",
    "from Kalman_Filter import KalmanFilter"
   ]
  },
  {
   "cell_type": "code",
   "execution_count": 3,
   "id": "140fc5ba",
   "metadata": {},
   "outputs": [],
   "source": [
    "#Set the state transition matrix\n",
    "f1 = KalmanFilter(dim_x=4, dim_z=2)\n",
    "dt = 1 #Time step\n",
    "f1.F = np.array ([[1, dt, 0, 0],\n",
    "                 [0, 1, 0, 0],\n",
    "                 [0, 0, 1, dt],\n",
    "                 [0, 0, 0, 1]])"
   ]
  },
  {
   "cell_type": "code",
   "execution_count": 4,
   "id": "24c490cc",
   "metadata": {},
   "outputs": [],
   "source": [
    "#Control input\n",
    "f1.u = 0"
   ]
  },
  {
   "cell_type": "code",
   "execution_count": 5,
   "id": "c21ed0c5",
   "metadata": {},
   "outputs": [],
   "source": [
    "#Measurement function\n",
    "f1.H = np.array([[1/0.3048,0,0,0],\n",
    "                [0,0,1/0.3048,0]])"
   ]
  },
  {
   "cell_type": "code",
   "execution_count": 6,
   "id": "d9153684",
   "metadata": {},
   "outputs": [],
   "source": [
    "#Measurement noise matrix\n",
    "f1.R = np.array([[5,0],\n",
    "                [0,5]])"
   ]
  },
  {
   "cell_type": "code",
   "execution_count": 7,
   "id": "80079027",
   "metadata": {},
   "outputs": [],
   "source": [
    "#Process noise matrix\n",
    "f1.Q = np.eye(4) * 0.1"
   ]
  },
  {
   "cell_type": "code",
   "execution_count": 8,
   "id": "4541a64d",
   "metadata": {},
   "outputs": [],
   "source": [
    "#Design initial conditions\n",
    "f1.x = np.array([[0,0,0,0]]).T\n",
    "f1.P = np.eye(4) * 500."
   ]
  },
  {
   "cell_type": "code",
   "execution_count": 11,
   "id": "d072f1aa",
   "metadata": {},
   "outputs": [
    {
     "ename": "AttributeError",
     "evalue": "module 'scipy.stats' has no attribute 'plot_covariance_ellipse'",
     "output_type": "error",
     "traceback": [
      "\u001b[0;31m---------------------------------------------------------------------------\u001b[0m",
      "\u001b[0;31mAttributeError\u001b[0m                            Traceback (most recent call last)",
      "Input \u001b[0;32mIn [11]\u001b[0m, in \u001b[0;36m<cell line: 6>\u001b[0;34m()\u001b[0m\n\u001b[1;32m     15\u001b[0m     \u001b[38;5;66;03m#Plot the covariance of x and y\u001b[39;00m\n\u001b[1;32m     16\u001b[0m     cov \u001b[38;5;241m=\u001b[39m np\u001b[38;5;241m.\u001b[39marray([[f1\u001b[38;5;241m.\u001b[39mP[\u001b[38;5;241m0\u001b[39m,\u001b[38;5;241m0\u001b[39m], f1\u001b[38;5;241m.\u001b[39mP[\u001b[38;5;241m2\u001b[39m,\u001b[38;5;241m0\u001b[39m]],\n\u001b[1;32m     17\u001b[0m                     [f1\u001b[38;5;241m.\u001b[39mP[\u001b[38;5;241m0\u001b[39m,\u001b[38;5;241m2\u001b[39m], f1\u001b[38;5;241m.\u001b[39mP[\u001b[38;5;241m2\u001b[39m,\u001b[38;5;241m2\u001b[39m]]])\n\u001b[0;32m---> 18\u001b[0m     \u001b[43mstats\u001b[49m\u001b[38;5;241;43m.\u001b[39;49m\u001b[43mplot_covariance_ellipse\u001b[49m((f1\u001b[38;5;241m.\u001b[39mx[\u001b[38;5;241m0\u001b[39m,\u001b[38;5;241m0\u001b[39m], f1\u001b[38;5;241m.\u001b[39mx[\u001b[38;5;241m2\u001b[39m,\u001b[38;5;241m0\u001b[39m]), cov\u001b[38;5;241m=\u001b[39mcov,\n\u001b[1;32m     19\u001b[0m                                   facecolor\u001b[38;5;241m=\u001b[39m\u001b[38;5;124m'\u001b[39m\u001b[38;5;124mg\u001b[39m\u001b[38;5;124m'\u001b[39m, alpha\u001b[38;5;241m=\u001b[39m\u001b[38;5;241m0.2\u001b[39m)\n\u001b[1;32m     21\u001b[0m p1, \u001b[38;5;241m=\u001b[39m plt\u001b[38;5;241m.\u001b[39mplot (xs, ys, \u001b[38;5;124m'\u001b[39m\u001b[38;5;124mr--\u001b[39m\u001b[38;5;124m'\u001b[39m)\n\u001b[1;32m     22\u001b[0m p2, \u001b[38;5;241m=\u001b[39m plt\u001b[38;5;241m.\u001b[39mplot (pxs, pys)\n",
      "\u001b[0;31mAttributeError\u001b[0m: module 'scipy.stats' has no attribute 'plot_covariance_ellipse'"
     ]
    }
   ],
   "source": [
    "#Next, implement the filter code\n",
    "count = 30\n",
    "xs,ys = [],[]\n",
    "pxs,pys = [],[]\n",
    "s = PosSensor1 ([0,0], (2,1), 1.)\n",
    "for i in range(count):\n",
    "    pos = s.read()\n",
    "    z = np.array([[pos[0]],[pos[1]]])\n",
    "    f1.predict()\n",
    "    f1.update(z)\n",
    "    xs.append(f1.x[0,0])\n",
    "    ys.append(f1.x[2,0])\n",
    "    pxs.append(pos[0]*0.3048)\n",
    "    pys.append(pos[1]*0.3048)\n",
    "    #Plot the covariance of x and y\n",
    "    cov = np.array([[f1.P[0,0], f1.P[2,0]],\n",
    "                    [f1.P[0,2], f1.P[2,2]]])\n",
    "    stats.plot_covariance_ellipse((f1.x[0,0], f1.x[2,0]), cov=cov,\n",
    "                                  facecolor='g', alpha=0.2)\n",
    "    \n",
    "p1, = plt.plot (xs, ys, 'r--')\n",
    "p2, = plt.plot (pxs, pys)\n",
    "plt.legend([p1,p2], ['filter', 'measurement'], 2)\n",
    "plt.show()"
   ]
  },
  {
   "cell_type": "code",
   "execution_count": null,
   "id": "8da06e26",
   "metadata": {},
   "outputs": [],
   "source": []
  }
 ],
 "metadata": {
  "kernelspec": {
   "display_name": "Python 3 (ipykernel)",
   "language": "python",
   "name": "python3"
  },
  "language_info": {
   "codemirror_mode": {
    "name": "ipython",
    "version": 3
   },
   "file_extension": ".py",
   "mimetype": "text/x-python",
   "name": "python",
   "nbconvert_exporter": "python",
   "pygments_lexer": "ipython3",
   "version": "3.9.13"
  }
 },
 "nbformat": 4,
 "nbformat_minor": 5
}
