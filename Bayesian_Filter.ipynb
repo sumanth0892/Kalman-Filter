{
 "cells": [
  {
   "cell_type": "markdown",
   "id": "0a6864b1",
   "metadata": {},
   "source": [
    "## Bayesian Filter"
   ]
  },
  {
   "cell_type": "code",
   "execution_count": 1,
   "id": "27c36462",
   "metadata": {},
   "outputs": [],
   "source": [
    "import numpy as np\n",
    "import matplotlib.pyplot as plt\n",
    "from __future__ import print_function,division"
   ]
  },
  {
   "cell_type": "code",
   "execution_count": 2,
   "id": "99c81dcb",
   "metadata": {},
   "outputs": [],
   "source": [
    "#Represent the initial position (belief) as an array\n",
    "pos = [0.1]*10\n",
    "pos = np.array(pos)\n",
    "#Represent the hallway with 3 doors\n",
    "hallway = np.array([1,1,0,0,0,0,0,0,1,0])"
   ]
  },
  {
   "cell_type": "code",
   "execution_count": 20,
   "id": "612e1396",
   "metadata": {},
   "outputs": [],
   "source": [
    "#With an initial signal of \"door\" we need to update the position\n",
    "def plot_bar(pos):\n",
    "    fig = plt.figure()\n",
    "    ax = fig.add_axes([0,0,1,1])\n",
    "    x = list(range(0,len(pos)))\n",
    "    data = pos\n",
    "    ax.bar(x,data)\n",
    "    plt.show()"
   ]
  },
  {
   "cell_type": "code",
   "execution_count": 4,
   "id": "7f500ac7",
   "metadata": {},
   "outputs": [],
   "source": [
    "#Since the sensors are noisy and can be incorrect many of the times, we need to udpate the positions as we see fit.\n",
    "def update(pos,measure,p_hit,p_miss):\n",
    "    for i in range(len(hallway)):\n",
    "        if hallway[i] == measure:\n",
    "            pos[i] = pos[i]*p_hit\n",
    "        else:\n",
    "            pos[i] = pos[i]*p_miss\n",
    "    return pos"
   ]
  },
  {
   "cell_type": "code",
   "execution_count": 5,
   "id": "60eb8840",
   "metadata": {},
   "outputs": [],
   "source": [
    "#Since the above probabilities don't sum to 1, we need to normalize them\n",
    "def normalize(p):\n",
    "    s = sum(p)\n",
    "    for i in range(len(p)):\n",
    "        p[i] = p[i]/s\n",
    "    return p"
   ]
  },
  {
   "cell_type": "code",
   "execution_count": 6,
   "id": "af1761bb",
   "metadata": {},
   "outputs": [
    {
     "data": {
      "image/png": "[encoded data removed]",
      "text/plain": [
       "<Figure size 432x288 with 1 Axes>"
      ]
     },
     "metadata": {
      "needs_background": "light"
     },
     "output_type": "display_data"
    },
    {
     "name": "stdout",
     "output_type": "stream",
     "text": [
      "sum =  0.9999999999999997\n",
      "Probability of the pet being in front of a door =  0.18749999999999992\n",
      "Probability of the pet being in front of a wall =  0.062499999999999986\n"
     ]
    }
   ],
   "source": [
    "#Now, let's write the complete update function\n",
    "def update(pos,measure,p_hit,p_miss):\n",
    "    for i in range(len(hallway)):\n",
    "        if hallway[i] == measure:\n",
    "            pos[i] = pos[i]*p_hit\n",
    "        else:\n",
    "            pos[i] = pos[i]*p_miss\n",
    "    return normalize(pos)\n",
    "p = np.array([0.2]*10)\n",
    "pos = update(p,1,0.6,0.2)\n",
    "plot_bar(pos)\n",
    "print('sum = ',sum(pos))\n",
    "print('Probability of the pet being in front of a door = ',pos[0])\n",
    "print('Probability of the pet being in front of a wall = ',pos[2])"
   ]
  },
  {
   "cell_type": "code",
   "execution_count": 22,
   "id": "4b40d634",
   "metadata": {},
   "outputs": [
    {
     "name": "stdout",
     "output_type": "stream",
     "text": [
      "[0.2245871  0.06288015 0.06109133 0.0581008  0.09334062 0.2245871\n",
      " 0.06288015 0.06109133 0.0581008  0.09334062]\n",
      "New Position after moving one space to the right is:  [0.09334062 0.2245871  0.06288015 0.06109133 0.0581008  0.09334062\n",
      " 0.2245871  0.06288015 0.06109133 0.0581008 ]\n"
     ]
    },
    {
     "data": {
      "image/png": "[encoded data removed]",
      "text/plain": [
       "<Figure size 432x288 with 1 Axes>"
      ]
     },
     "metadata": {
      "needs_background": "light"
     },
     "output_type": "display_data"
    }
   ],
   "source": [
    "#Incorporating movement data\n",
    "#To incorporate movement data, we need to shift the probabilities according to the number of spaces moved by the pet\n",
    "#and update the array accordingly.\n",
    "def perfect_predict(p,move):\n",
    "    #Consider move to be positive if movement to the right and vice versa\n",
    "    result = p.copy()\n",
    "    for i in range(len(p)):\n",
    "        result[i] = p[(i - move)]\n",
    "    return result\n",
    "new_pos = perfect_predict(pos,1)\n",
    "print(pos)\n",
    "print(\"New Position after moving one space to the right is: \",new_pos)\n",
    "plot_bar(new_pos)"
   ]
  },
  {
   "cell_type": "code",
   "execution_count": 12,
   "id": "3520c714",
   "metadata": {},
   "outputs": [],
   "source": [
    "#Incorporating noise into the prediction.\n",
    "#Now, we need to add noise which comes in overshoot and undershoot for each prediction.\n",
    "def predict(p,move,p_correct,p_under,p_over):\n",
    "    result = np.array(p); n = len(p)\n",
    "    for i in range(n):\n",
    "        result[i] = p[i - move]*p_correct + p[i - move - 1]*p_over + p[i - move + 1]*p_under\n",
    "    return result"
   ]
  },
  {
   "cell_type": "code",
   "execution_count": 14,
   "id": "dac68241",
   "metadata": {},
   "outputs": [
    {
     "name": "stdout",
     "output_type": "stream",
     "text": [
      "[0.1 0.1 0.1 0.1 0.1 0.1 0.1 0.1 0.1 0.1]\n",
      "[0.   0.   0.   0.04 0.38 0.52 0.06 0.  ]\n"
     ]
    }
   ],
   "source": [
    "pos = [1.0,0,0,0,0,0,0,0,0,0]\n",
    "for i in range(500):\n",
    "    pos = predict(pos,1,0.8,0.1,0.1)\n",
    "print(pos)\n",
    "pos = [0,0,0.4,0.6,0,0,0,0]\n",
    "pos_upd = predict(pos,2,0.8,0.1,0.1)\n",
    "print(pos_upd)"
   ]
  },
  {
   "cell_type": "code",
   "execution_count": 21,
   "id": "60c5e47e",
   "metadata": {},
   "outputs": [
    {
     "name": "stdout",
     "output_type": "stream",
     "text": [
      "[0.2245871  0.06288015 0.06109133 0.0581008  0.09334062 0.2245871\n",
      " 0.06288015 0.06109133 0.0581008  0.09334062]\n"
     ]
    },
    {
     "data": {
      "image/png": "[encoded data removed]",
      "text/plain": [
       "<Figure size 432x288 with 1 Axes>"
      ]
     },
     "metadata": {
      "needs_background": "light"
     },
     "output_type": "display_data"
    }
   ],
   "source": [
    "#Putting it together\n",
    "#Consider a different hallway structure\n",
    "hallway = [1,0,1,0,0,1,0,1,0,0]\n",
    "pos = np.array([0.1]*10)\n",
    "measurements = [1,0,1,0,0]\n",
    "for m in measurements:\n",
    "    pos = update(pos,m,0.6,0.2)\n",
    "    pos = predict(pos,1,0.8,0.1,0.1)\n",
    "print(pos)\n",
    "plot_bar(pos)"
   ]
  },
  {
   "cell_type": "code",
   "execution_count": null,
   "id": "a0b16fb9",
   "metadata": {},
   "outputs": [],
   "source": []
  }
 ],
 "metadata": {
  "kernelspec": {
   "display_name": "Python 3 (ipykernel)",
   "language": "python",
   "name": "python3"
  },
  "language_info": {
   "codemirror_mode": {
    "name": "ipython",
    "version": 3
   },
   "file_extension": ".py",
   "mimetype": "text/x-python",
   "name": "python",
   "nbconvert_exporter": "python",
   "pygments_lexer": "ipython3",
   "version": "3.9.13"
  }
 },
 "nbformat": 4,
 "nbformat_minor": 5
}
