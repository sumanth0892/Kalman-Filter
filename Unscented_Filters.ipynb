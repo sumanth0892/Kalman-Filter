{
 "cells": [
  {
   "cell_type": "code",
   "execution_count": 4,
   "id": "e11abf76",
   "metadata": {},
   "outputs": [],
   "source": [
    "import numpy as np"
   ]
  },
  {
   "cell_type": "code",
   "execution_count": 2,
   "id": "a92a274c",
   "metadata": {},
   "outputs": [],
   "source": [
    "def sigma_points(X,P,kappa):\n",
    "    \"\"\"\n",
    "    Computes the sigma points and weights for an unscented Kalman filter\n",
    "given the mean and covariance of the filter.\n",
    "kappa is an arbitrary constant\n",
    "constant. Returns tuple of the sigma points and weights.\n",
    "Works with both scalar and array inputs:\n",
    "sigma_points (5, 9, 2) # mean 5, covariance 9\n",
    "sigma_points ([5, 2], 9*eye(2), 2) # means 5 and 2, covariance 9I\n",
    "Parameters\n",
    "----------\n",
    "X An array of the means for each dimension in the problem space.\n",
    "Can be a scalar if 1D.\n",
    "examples: 1, [1,2], np.array([1,2])\n",
    "P : scalar, or\n",
    "Returns\n",
    "-------\n",
    "sigmas : np.array, of size (n, 2n+1)\n",
    "Two dimensional array of sigma points. Each column contains all of\n",
    "the sigmas for one dimension in the problem space.\n",
    "Ordered by Xi_0, Xi_{1..n}, Xi_{n+1..2n}\n",
    "weights : 1D np.array, of size (2n+1)\n",
    "    \"\"\"\n",
    "    if np.isscalar(X):\n",
    "        return np.array([X])\n",
    "    if np.isscalar(P):\n",
    "        return np.array([[P]])\n",
    "    \"\"\"\n",
    "    Xi: sigma points\n",
    "    W: weights\n",
    "    \"\"\"\n",
    "    n = np.size(X)\n",
    "    W = np.full((2*n+1),0.5/(n+kappa))\n",
    "    Xi = np.zeros((2*n+1,n))\n",
    "    #Handles values for the mean\n",
    "    Xi[0] = X\n",
    "    W[0] = kappa/(n+kappa)\n",
    "    \n",
    "    #Implements U'*U = (n+kappa)*P and returns a lower triangular matrix\n",
    "    #Take transpose so we can access with U[i]\n",
    "    U = np.linalg.cholesky((n+kappa)*P).T\n",
    "    for k in range(n):\n",
    "        Xi[k+1] = X + U[k]\n",
    "        Xi[n+k+1] = X - U[k]\n",
    "    return (Xi,W)"
   ]
  },
  {
   "cell_type": "code",
   "execution_count": 3,
   "id": "5e136745",
   "metadata": {},
   "outputs": [],
   "source": [
    "def Unscented_transform(Xi,W,NoiseCov = None):\n",
    "    \"\"\"\n",
    "    Returns the mean and covariance in a tuple after computing the unscented transform of a set of sigma points and \n",
    "    weights\n",
    "    \"\"\"\n",
    "    kmax,n = Xi.shape\n",
    "    X = np.sum(Xi*W,axis = 0)\n",
    "    P = np.zeros((n,n))\n",
    "    for k in range(kmax):\n",
    "        s = (Xi[k]-X)[np.newaxis]\n",
    "        P += W[k]*s*s.T\n",
    "    if NoiseCov is not None:\n",
    "        P += NoiseCov\n",
    "    return (X,P)"
   ]
  },
  {
   "cell_type": "code",
   "execution_count": 11,
   "id": "9647478b",
   "metadata": {},
   "outputs": [
    {
     "name": "stdout",
     "output_type": "stream",
     "text": [
      "[[1 2 3]\n",
      " [1 2 3]\n",
      " [1 2 3]]\n",
      "True\n",
      "[ True  True  True]\n"
     ]
    },
    {
     "data": {
      "text/plain": [
       "array([ True,  True,  True])"
      ]
     },
     "execution_count": 11,
     "metadata": {},
     "output_type": "execute_result"
    }
   ],
   "source": [
    "#Test\n",
    "Xi = [[1,2,3],[1,2,3],[1,2,3]]\n",
    "Xi = np.array(Xi)\n",
    "print(Xi)\n",
    "print(np.sum(Xi) == 18)\n",
    "print(np.sum(Xi,axis = 0) == [3,6,9])\n",
    "np.sum(Xi,axis = 1) == [6,6,6]"
   ]
  }
 ],
 "metadata": {
  "kernelspec": {
   "display_name": "Python 3 (ipykernel)",
   "language": "python",
   "name": "python3"
  },
  "language_info": {
   "codemirror_mode": {
    "name": "ipython",
    "version": 3
   },
   "file_extension": ".py",
   "mimetype": "text/x-python",
   "name": "python",
   "nbconvert_exporter": "python",
   "pygments_lexer": "ipython3",
   "version": "3.9.13"
  }
 },
 "nbformat": 4,
 "nbformat_minor": 5
}
